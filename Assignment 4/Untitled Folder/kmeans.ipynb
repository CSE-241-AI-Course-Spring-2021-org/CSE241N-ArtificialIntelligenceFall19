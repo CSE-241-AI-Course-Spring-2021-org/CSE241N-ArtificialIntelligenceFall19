{
 "cells": [
  {
   "cell_type": "markdown",
   "metadata": {},
   "source": [
    "# K-means Clustering\n",
    "\n",
    "#### To classify News articles as belonging to 5 categories (binary classification)\n",
    "\n",
    "Any editing needs to be done only in the cells marked with \"Tune hyperparameters here\"\n",
    "\n",
    "\n",
    "\n",
    "\n",
    "Useful notebook shortcuts:\n",
    "\n",
    "Ctrl+Enter -> Run current cell\n",
    "\n",
    "Shift+Enter -> Run current cell and go to next cell\n",
    "\n",
    "Alt+Enter -> Run current cell and add new cell below"
   ]
  },
  {
   "cell_type": "code",
   "execution_count": 1,
   "metadata": {
    "collapsed": true
   },
   "outputs": [],
   "source": [
    "%load_ext autoreload\n",
    "%autoreload 2\n",
    "\n",
    "import numpy as np\n",
    "#from model import *\n",
    "from feature import *\n",
    "#from utils import *"
   ]
  },
  {
   "cell_type": "markdown",
   "metadata": {},
   "source": [
    "### Load the training data"
   ]
  },
  {
   "cell_type": "code",
   "execution_count": 2,
   "metadata": {
    "collapsed": true
   },
   "outputs": [],
   "source": [
    "# Change the path to the training data directory\n",
    "data = readfiles1('joined')"
   ]
  },
  {
   "cell_type": "code",
   "execution_count": 3,
   "metadata": {
    "collapsed": true
   },
   "outputs": [],
   "source": [
    "# Initialize the model and preprocess\n",
    "bow = BagOfWordsFeatureExtractor()\n",
    "bow.preprocess(data)"
   ]
  },
  {
   "cell_type": "code",
   "execution_count": 4,
   "metadata": {
    "collapsed": true
   },
   "outputs": [],
   "source": [
    "# Extract fetures and create a numpy array of features\n",
    "X_data_bow = bow.extract(data)"
   ]
  },
  {
   "cell_type": "code",
   "execution_count": 5,
   "metadata": {
    "scrolled": false
   },
   "outputs": [
    {
     "name": "stdout",
     "output_type": "stream",
     "text": [
      "[1210, 710, 116, 154, 310]\n",
      "1 out of 25 done\n",
      "[902, 648, 159, 309, 482]\n",
      "2 out of 25 done\n",
      "[666, 138, 206, 477, 1013]\n",
      "3 out of 25 done\n",
      "[473, 51, 119, 281, 1576]\n",
      "4 out of 25 done\n",
      "[366, 36, 28, 177, 1893]\n",
      "5 out of 25 done\n",
      "[294, 35, 19, 85, 2067]\n",
      "6 out of 25 done\n",
      "[230, 30, 3, 97, 2140]\n",
      "7 out of 25 done\n",
      "[187, 27, 0, 54, 2232]\n",
      "8 out of 25 done\n"
     ]
    },
    {
     "name": "stderr",
     "output_type": "stream",
     "text": [
      "/home/phoenix/anaconda3/lib/python3.6/site-packages/numpy/core/fromnumeric.py:2889: RuntimeWarning: Mean of empty slice.\n",
      "  out=out, **kwargs)\n",
      "/home/phoenix/anaconda3/lib/python3.6/site-packages/numpy/core/_methods.py:80: RuntimeWarning: invalid value encountered in double_scalars\n",
      "  ret = ret.dtype.type(ret / rcount)\n"
     ]
    },
    {
     "name": "stdout",
     "output_type": "stream",
     "text": [
      "[168, 17, 0, 32, 2283]\n",
      "9 out of 25 done\n",
      "[165, 7, 0, 21, 2307]\n",
      "10 out of 25 done\n",
      "[167, 3, 0, 19, 2311]\n",
      "11 out of 25 done\n",
      "[170, 3, 0, 16, 2311]\n",
      "12 out of 25 done\n",
      "[177, 3, 0, 14, 2306]\n",
      "13 out of 25 done\n",
      "[187, 3, 0, 9, 2301]\n",
      "14 out of 25 done\n",
      "[198, 3, 0, 8, 2291]\n",
      "15 out of 25 done\n",
      "[208, 3, 0, 8, 2281]\n",
      "16 out of 25 done\n",
      "[214, 3, 0, 8, 2275]\n",
      "17 out of 25 done\n",
      "[217, 3, 0, 8, 2272]\n",
      "18 out of 25 done\n",
      "[223, 3, 0, 8, 2266]\n",
      "19 out of 25 done\n",
      "[232, 3, 0, 8, 2257]\n",
      "20 out of 25 done\n",
      "[243, 3, 0, 8, 2246]\n",
      "21 out of 25 done\n",
      "[262, 3, 0, 8, 2227]\n",
      "22 out of 25 done\n",
      "[292, 3, 0, 8, 2197]\n",
      "23 out of 25 done\n",
      "[330, 3, 0, 8, 2159]\n",
      "24 out of 25 done\n",
      "[360, 3, 0, 8, 2129]\n",
      "25 out of 25 done\n"
     ]
    }
   ],
   "source": [
    "from model import *\n",
    "\n",
    "model1 = Kmeans()\n",
    "#model1.train(X_train_bow, Y_train_bow, lr, reg_const)\n",
    "labels = model1.cluster(X_data_bow, k=5, n_iter=25)"
   ]
  },
  {
   "cell_type": "code",
   "execution_count": 6,
   "metadata": {},
   "outputs": [
    {
     "name": "stdout",
     "output_type": "stream",
     "text": [
      "[360, 3, 0, 8, 2129]\n"
     ]
    }
   ],
   "source": [
    "l = [0,0,0,0,0]\n",
    "for k in labels:\n",
    "    l[k] += 1\n",
    "print(l)"
   ]
  },
  {
   "cell_type": "code",
   "execution_count": 9,
   "metadata": {},
   "outputs": [
    {
     "name": "stdout",
     "output_type": "stream",
     "text": [
      "[4 4 1 ..., 1 4 3]\n"
     ]
    }
   ],
   "source": [
    "from sklearn.cluster import KMeans as km\n",
    "kmeans = km(n_clusters=5, random_state=0).fit(X_data_bow)\n",
    "print(kmeans.labels_)"
   ]
  },
  {
   "cell_type": "code",
   "execution_count": 8,
   "metadata": {},
   "outputs": [
    {
     "name": "stdout",
     "output_type": "stream",
     "text": [
      "[1, 1205, 6, 424, 864]\n"
     ]
    }
   ],
   "source": [
    "l = [0,0,0,0,0]\n",
    "for k in kmeans.labels_:\n",
    "    l[k] += 1\n",
    "print(l)"
   ]
  },
  {
   "cell_type": "code",
   "execution_count": 10,
   "metadata": {
    "collapsed": true
   },
   "outputs": [],
   "source": [
    "file = open(\"res.txt\", \"w\")\n",
    "for a,b in zip(labels,kmeans.labels_):\n",
    "    file.write(str(a))\n",
    "    file.write(\" \")\n",
    "    file.write(str(b))\n",
    "    file.write(\"\\n\")\n",
    "file.close()"
   ]
  },
  {
   "cell_type": "markdown",
   "metadata": {},
   "source": [
    "### Final Output Labels for above model get recorded\n",
    "\n",
    "These labels will be your submission."
   ]
  },
  {
   "cell_type": "code",
   "execution_count": 10,
   "metadata": {},
   "outputs": [
    {
     "name": "stdout",
     "output_type": "stream",
     "text": [
      "[0 4 4 ..., 4 4 4]\n"
     ]
    }
   ],
   "source": [
    "import pickle\n",
    "with open('submission.pickle','wb') as h:\n",
    "    pickle.dump(labels,h)\n",
    "print (labels)"
   ]
  },
  {
   "cell_type": "markdown",
   "metadata": {},
   "source": [
    "Using tf-idf features"
   ]
  },
  {
   "cell_type": "code",
   "execution_count": 11,
   "metadata": {
    "collapsed": true
   },
   "outputs": [],
   "source": [
    "# Initialize the model and preprocess\n",
    "tfidf = TfIdfFeatureExtractor()\n",
    "tfidf.preprocess(data)"
   ]
  },
  {
   "cell_type": "code",
   "execution_count": 12,
   "metadata": {
    "collapsed": true
   },
   "outputs": [],
   "source": [
    "# Extract fetures and create a numpy array of features\n",
    "X_data_tfidf = tfidf.extract(data)"
   ]
  },
  {
   "cell_type": "code",
   "execution_count": null,
   "metadata": {},
   "outputs": [],
   "source": [
    "model2 = Kmeans()\n",
    "labels2 = model2.cluster(X_data_tfidf, k = 5)"
   ]
  },
  {
   "cell_type": "code",
   "execution_count": 25,
   "metadata": {},
   "outputs": [
    {
     "ename": "SyntaxError",
     "evalue": "Missing parentheses in call to 'print' (<ipython-input-25-f1fdffe73e28>, line 4)",
     "output_type": "error",
     "traceback": [
      "\u001b[0;36m  File \u001b[0;32m\"<ipython-input-25-f1fdffe73e28>\"\u001b[0;36m, line \u001b[0;32m4\u001b[0m\n\u001b[0;31m    print labels\u001b[0m\n\u001b[0m               ^\u001b[0m\n\u001b[0;31mSyntaxError\u001b[0m\u001b[0;31m:\u001b[0m Missing parentheses in call to 'print'\n"
     ]
    }
   ],
   "source": [
    "import pickle\n",
    "with open('submission2.pickle','wb') as h:\n",
    "    pickle.dump(labels,h)\n",
    "print (labels)"
   ]
  },
  {
   "cell_type": "code",
   "execution_count": null,
   "metadata": {
    "collapsed": true
   },
   "outputs": [],
   "source": []
  }
 ],
 "metadata": {
  "kernelspec": {
   "display_name": "Python 3",
   "language": "python",
   "name": "python3"
  },
  "language_info": {
   "codemirror_mode": {
    "name": "ipython",
    "version": 3
   },
   "file_extension": ".py",
   "mimetype": "text/x-python",
   "name": "python",
   "nbconvert_exporter": "python",
   "pygments_lexer": "ipython3",
   "version": "3.6.1"
  }
 },
 "nbformat": 4,
 "nbformat_minor": 2
}
