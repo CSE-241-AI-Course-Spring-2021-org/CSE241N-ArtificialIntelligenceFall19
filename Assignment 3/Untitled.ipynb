{
 "cells": [
  {
   "cell_type": "code",
   "execution_count": 24,
   "metadata": {},
   "outputs": [
    {
     "name": "stdout",
     "output_type": "stream",
     "text": [
      "{5: 'a', 55: 'sss', 10: 'som', 'sa': 555}\n",
      "5 --- a\n",
      "55 --- sss\n",
      "10 --- som\n",
      "sa --- 555\n"
     ]
    }
   ],
   "source": [
    "d={}\n",
    "d[5]=55\n",
    "d[5]='a'\n",
    "d[55]='sss'\n",
    "d[10]='som'\n",
    "d['sa']=555\n",
    "print(d)\n",
    "\n",
    "for poop,value in d.items():\n",
    "    print(poop,'---',value)"
   ]
  },
  {
   "cell_type": "code",
   "execution_count": null,
   "metadata": {
    "collapsed": true
   },
   "outputs": [],
   "source": []
  },
  {
   "cell_type": "code",
   "execution_count": null,
   "metadata": {
    "collapsed": true
   },
   "outputs": [],
   "source": []
  }
 ],
 "metadata": {
  "kernelspec": {
   "display_name": "Python 3",
   "language": "python",
   "name": "python3"
  },
  "language_info": {
   "codemirror_mode": {
    "name": "ipython",
    "version": 3
   },
   "file_extension": ".py",
   "mimetype": "text/x-python",
   "name": "python",
   "nbconvert_exporter": "python",
   "pygments_lexer": "ipython3",
   "version": "3.6.3"
  }
 },
 "nbformat": 4,
 "nbformat_minor": 2
}
