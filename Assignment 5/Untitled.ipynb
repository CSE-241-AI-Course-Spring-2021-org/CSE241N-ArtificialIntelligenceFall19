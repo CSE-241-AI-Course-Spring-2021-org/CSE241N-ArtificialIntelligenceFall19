{
 "cells": [
  {
   "cell_type": "code",
   "execution_count": 3,
   "metadata": {},
   "outputs": [
    {
     "name": "stdout",
     "output_type": "stream",
     "text": [
      "This Formula ((~((A ^ D) v ~False v ~C v A v D) ^ A ^ ~(~D ^ True ^ A)) v ~(~(D ^ D) v False v ~A) v B) crashed the system.\n",
      "This Formula D crashed the system.\n",
      "This Formula (C ^ (~True v (False ^ C) v (~A ^ (D v B))) ^ ~(~A v D)) crashed the system.\n",
      "This Formula (~True v (A ^ B)) crashed the system.\n",
      "This Formula ~True crashed the system.\n",
      "This Formula False crashed the system.\n",
      "This Formula B crashed the system.\n",
      "This Formula (D ^ ~(D v ~(D ^ C)) ^ A) crashed the system.\n",
      "This Formula ~A crashed the system.\n",
      "This Formula ~(True ^ (True v D)) crashed the system.\n",
      "This Formula B crashed the system.\n",
      "This Formula ~A crashed the system.\n",
      "This Formula D crashed the system.\n",
      "This Formula D crashed the system.\n",
      "This Formula (((~(~C v C) ^ False) v ~(((B v B) ^ (B v True)) v False v D v C v C)) ^ A ^ ~(~B v (D ^ True)) ^ ~(D v False) ^ ~True) crashed the system.\n",
      "This Formula (~B v False) crashed the system.\n",
      "This Formula ~~(((~B ^ (False v A)) v ((D v C) ^ (C v A))) ^ (A v A v B v C) ^ D) crashed the system.\n",
      "This Formula ~C crashed the system.\n",
      "This Formula (~D v B v ~(B v ~(C ^ A))) crashed the system.\n",
      "This Formula ((B ^ ~(B ^ D ^ C) ^ (~B v D) ^ ~A ^ (B v D)) v ~D) crashed the system.\n",
      "This Formula (B ^ ~~D) crashed the system.\n",
      "This Formula ((~~False v ~(True ^ A ^ C ^ B) v D v True) ^ ~((A ^ (D v True)) v ~~B) ^ ((~(True ^ False) ^ ~True ^ (A v True)) v A)) crashed the system.\n",
      "This Formula A crashed the system.\n",
      "This Formula ((True v (~(~D v ~False) ^ ~False)) ^ ~~(~A ^ ((A ^ D) v ~D))) crashed the system.\n",
      "This Formula ((~~B ^ B ^ C ^ (~C v A v A) ^ ~~C) v True v ~((C v C) ^ ~A) v A v ((B v C) ^ (False v False))) crashed the system.\n",
      "This Formula (~~(((D v B) ^ False ^ D) v ((B v D) ^ C ^ A)) v C v ~~((A ^ True) v ~C)) crashed the system.\n",
      "This Formula (A ^ ~(((B v False) ^ (False v A)) v (D ^ C ^ A)) ^ D) crashed the system.\n",
      "This Formula ~(B v (True ^ True ^ (B v True v A))) crashed the system.\n",
      "This Formula (~(~~False ^ D ^ (C v False) ^ A ^ B) ^ ~(False ^ ~~B ^ False ^ B)) crashed the system.\n",
      "This Formula ((~(~~D v (B ^ (C v C))) ^ ((A ^ True) v ((A v B) ^ B ^ B) v ~C v False v A)) v ~((B ^ C ^ A ^ D) v ~(C v B) v (B ^ C) v (True ^ D) v B)) crashed the system.\n",
      "This Formula (False ^ (~(D ^ True) v C) ^ ~(~D ^ (C v B)) ^ A ^ ~(B v True) ^ ~True ^ A ^ A) crashed the system.\n",
      "This Formula ~True crashed the system.\n",
      "This Formula ~(D ^ D) crashed the system.\n",
      "This Formula C crashed the system.\n",
      "This Formula B crashed the system.\n",
      "This Formula ~(~(C ^ D) v ((D v D) ^ ~True ^ B ^ C ^ A ^ B) v A) crashed the system.\n",
      "This Formula (~~(~(B ^ B) ^ ~~D) v A v (A ^ (~A v (D ^ B)) ^ (False v B) ^ B ^ False)) crashed the system.\n",
      "This Formula A crashed the system.\n",
      "This Formula (((C v (~C ^ False ^ C ^ A)) ^ ~~~A) v True) crashed the system.\n",
      "This Formula ((~A v (B ^ A) v False) ^ ((A ^ D) v ~~(A v D))) crashed the system.\n",
      "This Formula B crashed the system.\n",
      "This Formula ~~C crashed the system.\n",
      "This Formula (A ^ True ^ ~D) crashed the system.\n",
      "This Formula ~(B v B) crashed the system.\n",
      "This Formula ~(~~A v (~False ^ ((~A ^ True) v ~True v C v B))) crashed the system.\n",
      "This Formula A crashed the system.\n",
      "This Formula ~~((C ^ C ^ B ^ A) v D v ~True) crashed the system.\n",
      "This Formula ((~~(C ^ A ^ False) ^ ~((B ^ B ^ False) v ~False v D v B)) v ~B v ~(D v A) v ~(D ^ A) v (B ^ C) v ~True v A v C v A v A) crashed the system.\n",
      "This Formula (A ^ ((((~B ^ (D v False)) v (True ^ True) v A v True) ^ C) v D v A)) crashed the system.\n",
      "This Formula ~B crashed the system.\n",
      "All CNF conversion tests passed. Your implementation is (probably) correct!\n",
      "Truth value test failed.\n"
     ]
    },
    {
     "ename": "AttributeError",
     "evalue": "'NoneType' object has no attribute 'toCNF'",
     "output_type": "error",
     "traceback": [
      "\u001b[0;31m---------------------------------------------------------------------------\u001b[0m",
      "\u001b[0;31mAttributeError\u001b[0m                            Traceback (most recent call last)",
      "\u001b[0;32m~/Downloads/assignment_5 copy/test.py\u001b[0m in \u001b[0;36m<module>\u001b[0;34m()\u001b[0m\n\u001b[1;32m    152\u001b[0m \u001b[0;34m\u001b[0m\u001b[0m\n\u001b[1;32m    153\u001b[0m     \u001b[0;32mif\u001b[0m \u001b[0margs\u001b[0m\u001b[0;34m.\u001b[0m\u001b[0mresolution\u001b[0m\u001b[0;34m:\u001b[0m\u001b[0;34m\u001b[0m\u001b[0m\n\u001b[0;32m--> 154\u001b[0;31m         \u001b[0mrunResolutionTest\u001b[0m\u001b[0;34m(\u001b[0m\u001b[0;34m)\u001b[0m\u001b[0;34m\u001b[0m\u001b[0m\n\u001b[0m",
      "\u001b[0;32m~/Downloads/assignment_5 copy/test.py\u001b[0m in \u001b[0;36mrunResolutionTest\u001b[0;34m()\u001b[0m\n\u001b[1;32m     96\u001b[0m \u001b[0;34m\u001b[0m\u001b[0m\n\u001b[1;32m     97\u001b[0m     t[0] = resolutionRefutation(And.fromList([P,\n\u001b[0;32m---> 98\u001b[0;31m                                               Q]), Q, quiet=True)\n\u001b[0m\u001b[1;32m     99\u001b[0m     t[1] = resolutionRefutation(And.fromList([P,\n\u001b[1;32m    100\u001b[0m                                               Implies(P, Q)]), Q, quiet=True)\n",
      "\u001b[0;32m~/Downloads/assignment_5 copy/knowledge.py\u001b[0m in \u001b[0;36mresolutionRefutation\u001b[0;34m(axioms, proposition, quiet)\u001b[0m\n\u001b[1;32m    130\u001b[0m     \u001b[0;31m# END YOUR CODE #\u001b[0m\u001b[0;34m\u001b[0m\u001b[0;34m\u001b[0m\u001b[0m\n\u001b[1;32m    131\u001b[0m \u001b[0;34m\u001b[0m\u001b[0m\n\u001b[0;32m--> 132\u001b[0;31m     \u001b[0moldRes\u001b[0m \u001b[0;34m=\u001b[0m \u001b[0m__simplifyCNFList\u001b[0m\u001b[0;34m(\u001b[0m\u001b[0mresolutions\u001b[0m\u001b[0;34m)\u001b[0m\u001b[0;34m\u001b[0m\u001b[0m\n\u001b[0m\u001b[1;32m    133\u001b[0m \u001b[0;34m\u001b[0m\u001b[0m\n\u001b[1;32m    134\u001b[0m     \u001b[0;32mif\u001b[0m \u001b[0;32mnot\u001b[0m \u001b[0mquiet\u001b[0m\u001b[0;34m:\u001b[0m\u001b[0;34m\u001b[0m\u001b[0m\n",
      "\u001b[0;32m~/Downloads/assignment_5 copy/knowledge.py\u001b[0m in \u001b[0;36m__simplifyCNFList\u001b[0;34m(formula)\u001b[0m\n\u001b[1;32m     52\u001b[0m     \u001b[0mNOTE\u001b[0m \u001b[0;34m-\u001b[0m \u001b[0mThis\u001b[0m \u001b[0mfunction\u001b[0m \u001b[0massumes\u001b[0m \u001b[0mthat\u001b[0m \u001b[0mall\u001b[0m \u001b[0mthe\u001b[0m \u001b[0mtoCNF\u001b[0m\u001b[0;34m(\u001b[0m\u001b[0;34m)\u001b[0m \u001b[0mfunctions\u001b[0m \u001b[0;32min\u001b[0m \u001b[0mlogic\u001b[0m\u001b[0;34m.\u001b[0m\u001b[0mpy\u001b[0m \u001b[0mare\u001b[0m \u001b[0mcomplete\u001b[0m \u001b[0;32mand\u001b[0m \u001b[0mcorrect\u001b[0m\u001b[0;34m.\u001b[0m\u001b[0;34m\u001b[0m\u001b[0m\n\u001b[1;32m     53\u001b[0m     \"\"\"\n\u001b[0;32m---> 54\u001b[0;31m     \u001b[0mformula\u001b[0m \u001b[0;34m=\u001b[0m \u001b[0mformula\u001b[0m\u001b[0;34m.\u001b[0m\u001b[0mtoCNF\u001b[0m\u001b[0;34m(\u001b[0m\u001b[0;34m)\u001b[0m\u001b[0;34m\u001b[0m\u001b[0m\n\u001b[0m\u001b[1;32m     55\u001b[0m \u001b[0;34m\u001b[0m\u001b[0m\n\u001b[1;32m     56\u001b[0m     \u001b[0;32mif\u001b[0m \u001b[0;32mnot\u001b[0m \u001b[0misinstance\u001b[0m\u001b[0;34m(\u001b[0m\u001b[0mformula\u001b[0m\u001b[0;34m,\u001b[0m \u001b[0mAnd\u001b[0m\u001b[0;34m)\u001b[0m\u001b[0;34m:\u001b[0m\u001b[0;34m\u001b[0m\u001b[0m\n",
      "\u001b[0;31mAttributeError\u001b[0m: 'NoneType' object has no attribute 'toCNF'"
     ]
    }
   ],
   "source": [
    "%run test.py"
   ]
  },
  {
   "cell_type": "code",
   "execution_count": null,
   "metadata": {
    "collapsed": true
   },
   "outputs": [],
   "source": []
  }
 ],
 "metadata": {
  "kernelspec": {
   "display_name": "Python 3",
   "language": "python",
   "name": "python3"
  },
  "language_info": {
   "codemirror_mode": {
    "name": "ipython",
    "version": 3
   },
   "file_extension": ".py",
   "mimetype": "text/x-python",
   "name": "python",
   "nbconvert_exporter": "python",
   "pygments_lexer": "ipython3",
   "version": "3.6.3"
  }
 },
 "nbformat": 4,
 "nbformat_minor": 2
}
